{
  "nbformat": 4,
  "nbformat_minor": 0,
  "metadata": {
    "colab": {
      "provenance": []
    },
    "kernelspec": {
      "name": "python3",
      "display_name": "Python 3"
    },
    "language_info": {
      "name": "python"
    },
    "gpuClass": "standard"
  },
  "cells": [
    {
      "cell_type": "code",
      "execution_count": null,
      "metadata": {
        "colab": {
          "base_uri": "https://localhost:8080/"
        },
        "id": "yCFZEQDAuTfS",
        "outputId": "13ffd20c-1f42-4c83-f240-3b5058ddf8be"
      },
      "outputs": [
        {
          "output_type": "stream",
          "name": "stdout",
          "text": [
            "Enter a number: 5\n",
            "Enter another number: 4\n",
            "Enter another number: 3\n",
            "5 is greater than 4 and 3\n"
          ]
        }
      ],
      "source": [
        "#Finding the greatest between 3 numbers.\n",
        "\n",
        "a = int(input(\"Enter a number: \"))\n",
        "b = int(input(\"Enter another number: \"))\n",
        "c = int(input(\"Enter another number: \"))\n",
        "\n",
        "if a > b and c:\n",
        "  print(a, \"is greater than\", b ,\"and\", c)\n",
        "\n",
        "elif b > c and a:\n",
        "  print(b, \"is greater than\", a ,\"and\", c)\n",
        "\n",
        "elif c > a and b:\n",
        "  print(c, \"is greater than\", a ,\"and\", b)\n",
        "\n",
        "else:\n",
        "  print(\"all are equal\")"
      ]
    },
    {
      "cell_type": "code",
      "source": [
        "#-------------------------------------------------------------------------------------------------------------------------------------------------------------------------------"
      ],
      "metadata": {
        "id": "3e_iNE6WkbSZ"
      },
      "execution_count": null,
      "outputs": []
    },
    {
      "cell_type": "code",
      "source": [
        "#printing first 20 numbers\n",
        "x = 0\n",
        "for x in range(0,20):\n",
        "  x = x+1\n",
        "  print(x)"
      ],
      "metadata": {
        "id": "AeLgtc00uWhe",
        "colab": {
          "base_uri": "https://localhost:8080/"
        },
        "outputId": "6ba5d596-8476-4755-947a-572682f459b0"
      },
      "execution_count": null,
      "outputs": [
        {
          "output_type": "stream",
          "name": "stdout",
          "text": [
            "1\n",
            "2\n",
            "3\n",
            "4\n",
            "5\n",
            "6\n",
            "7\n",
            "8\n",
            "9\n",
            "10\n",
            "11\n",
            "12\n",
            "13\n",
            "14\n",
            "15\n",
            "16\n",
            "17\n",
            "18\n",
            "19\n",
            "20\n"
          ]
        }
      ]
    },
    {
      "cell_type": "code",
      "source": [
        "#-------------------------------------------------------------------------------------------------------------------------------------------------------------------------------"
      ],
      "metadata": {
        "id": "igtgSU-R_guw"
      },
      "execution_count": null,
      "outputs": []
    },
    {
      "cell_type": "code",
      "source": [
        "#taking name and age from user and printing it\n",
        "\n",
        "nam = input(\"What is your name?: \")\n",
        "age = int(input(\"What is your age?: \"))\n",
        "nam = nam.lower()\n",
        "print(\"hello\", nam , \"your age is\", age)"
      ],
      "metadata": {
        "id": "J7DCxcwt_hVA",
        "colab": {
          "base_uri": "https://localhost:8080/"
        },
        "outputId": "b8e9b571-de45-4416-d2bd-23e7fdd528ba"
      },
      "execution_count": null,
      "outputs": [
        {
          "output_type": "stream",
          "name": "stdout",
          "text": [
            "What is your name?: Parth Khatkar\n",
            "What is your age?: 14\n",
            "hello parth khatkar your age is 14\n"
          ]
        }
      ]
    },
    {
      "cell_type": "code",
      "source": [
        "#-------------------------------------------------------------------------------------------------------------------------------------------------------------------------------"
      ],
      "metadata": {
        "id": "y1JWbQAXkay3"
      },
      "execution_count": null,
      "outputs": []
    },
    {
      "cell_type": "code",
      "source": [
        "#Converting Farehneit to degree Celsius\n",
        "\n",
        "x = int(input(\"Enter temperature in F: \"))\n",
        "y = 5/9*(x-32)\n",
        "print(\"Temperature in C is\", y)"
      ],
      "metadata": {
        "id": "7cQYbL6b7ScG",
        "colab": {
          "base_uri": "https://localhost:8080/"
        },
        "outputId": "42095684-c142-4e1d-e9df-44e8755930b5"
      },
      "execution_count": null,
      "outputs": [
        {
          "output_type": "stream",
          "name": "stdout",
          "text": [
            "Enter temperature in F: 45\n",
            "Temperature in C is 7.222222222222222\n"
          ]
        }
      ]
    },
    {
      "cell_type": "code",
      "source": [
        "#-------------------------------------------------------------------------------------------------------------------------------------------------------------------------------"
      ],
      "metadata": {
        "id": "1CUZ02n1kaP-"
      },
      "execution_count": null,
      "outputs": []
    },
    {
      "cell_type": "code",
      "source": [
        "#Km to Miles convertion\n",
        "\n",
        "x = float(input(\"Enter value in kms: \"))\n",
        "y = x* 0.621371\n",
        "print(\"Value in miles is\", y)"
      ],
      "metadata": {
        "id": "rxv5MNt47yXA",
        "colab": {
          "base_uri": "https://localhost:8080/"
        },
        "outputId": "b9341644-7b1f-4de3-fc9c-3811c2deba81"
      },
      "execution_count": null,
      "outputs": [
        {
          "output_type": "stream",
          "name": "stdout",
          "text": [
            "Enter value in kms: 67\n",
            "Value in miles is 41.631857000000004\n"
          ]
        }
      ]
    },
    {
      "cell_type": "code",
      "source": [
        "#-------------------------------------------------------------------------------------------------------------------------------------------------------------------------------"
      ],
      "metadata": {
        "id": "EDZ_pOS8kaB4"
      },
      "execution_count": null,
      "outputs": []
    },
    {
      "cell_type": "code",
      "source": [
        "#Reversing list elements\n",
        "\n",
        "l = [2,4,7,9,4]\n",
        "l.sort()\n",
        "print(l)\n",
        "l.reverse()\n",
        "print(l)"
      ],
      "metadata": {
        "id": "nIoWl_ld9IeA",
        "colab": {
          "base_uri": "https://localhost:8080/"
        },
        "outputId": "cda251f5-0b79-4734-9c9b-6453a6f19bd8"
      },
      "execution_count": null,
      "outputs": [
        {
          "output_type": "stream",
          "name": "stdout",
          "text": [
            "[2, 4, 4, 7, 9]\n",
            "[9, 7, 4, 4, 2]\n"
          ]
        }
      ]
    },
    {
      "cell_type": "code",
      "source": [
        "#-------------------------------------------------------------------------------------------------------------------------------------------------------------------------------"
      ],
      "metadata": {
        "id": "pcc2aa2-kZ0x"
      },
      "execution_count": null,
      "outputs": []
    },
    {
      "cell_type": "code",
      "source": [
        "# printing total marks by taking individual marks input\n",
        "\n",
        "name = input(\"Enter a name: \")\n",
        "eng = float(input(\"Enter marks scored in english: \"))\n",
        "math = float(input(\"Enter marks scored in maths: \"))\n",
        "sci = float(input(\"Enter marks scored in science: \"))\n",
        "tot = eng+math+sci\n",
        "print(\"total marks scored is \", tot)"
      ],
      "metadata": {
        "id": "QmDtBRDI9WcC",
        "colab": {
          "base_uri": "https://localhost:8080/"
        },
        "outputId": "0107ed5f-b5ce-4684-9f12-7475994e5d50"
      },
      "execution_count": null,
      "outputs": [
        {
          "output_type": "stream",
          "name": "stdout",
          "text": [
            "Enter a name: Parth khatkar\n",
            "Enter marks scored in english: 90\n",
            "Enter marks scored in maths: 56\n",
            "Enter marks scored in science: 89\n",
            "total marks scored is  235.0\n"
          ]
        }
      ]
    },
    {
      "cell_type": "code",
      "source": [
        "#-------------------------------------------------------------------------------------------------------------------------------------------------------------------------------"
      ],
      "metadata": {
        "id": "jcj4bfoMkZAw"
      },
      "execution_count": null,
      "outputs": []
    },
    {
      "cell_type": "code",
      "source": [
        "#Identifying positive and negative numbers\n",
        "\n",
        "\n",
        "num = float(input(\"Enter a number: \"))\n",
        "if num >= 0:\n",
        "  if num == 0:\n",
        "    print(\"zero\")\n",
        "  else:\n",
        "      print(\"positive number \")\n",
        "else:\n",
        "  print(\"negative number\")"
      ],
      "metadata": {
        "id": "iUjKAvHO6GPv",
        "colab": {
          "base_uri": "https://localhost:8080/"
        },
        "outputId": "99bee7ad-badf-4f00-ef66-069495ae67c8"
      },
      "execution_count": null,
      "outputs": [
        {
          "output_type": "stream",
          "name": "stdout",
          "text": [
            "Enter a number: 80\n",
            "positive number \n"
          ]
        }
      ]
    },
    {
      "cell_type": "code",
      "source": [
        "#-------------------------------------------------------------------------------------------------------------------------------------------------------------------------------"
      ],
      "metadata": {
        "id": "gkO7wfg9kS3u"
      },
      "execution_count": null,
      "outputs": []
    },
    {
      "cell_type": "code",
      "source": [
        "#Calculating simple interest\n",
        "\n",
        "p = int(input(\"Enter principal amount (₹): \"))\n",
        "r = int(input(\"Enter rate of interest (%): \"))\n",
        "t = int(input(\"Enter time period (years): \"))\n",
        "\n",
        "si = (p*r*t)/100\n",
        "print(si)"
      ],
      "metadata": {
        "id": "6raYkR8Kkk4d",
        "colab": {
          "base_uri": "https://localhost:8080/"
        },
        "outputId": "2918e19b-50eb-43cb-c2d1-aad4594c98f2"
      },
      "execution_count": null,
      "outputs": [
        {
          "output_type": "stream",
          "name": "stdout",
          "text": [
            "Enter principal amount (₹): 5000\n",
            "Enter rate of interest (%): 10\n",
            "Enter time period (years): 2\n",
            "1000.0\n"
          ]
        }
      ]
    },
    {
      "cell_type": "code",
      "source": [
        "#-------------------------------------------------------------------------------------------------------------------------------------------------------------------------------"
      ],
      "metadata": {
        "id": "yHxkBcOMkS_9"
      },
      "execution_count": null,
      "outputs": []
    },
    {
      "cell_type": "code",
      "source": [
        "#Classifying Prime and non prime numbers\n",
        "\n",
        "num = int(input(\"Enter a number: \"))\n",
        "\n",
        "if num > 1:\n",
        "  for i in range(2,num):\n",
        "    if (num % i) == 0:\n",
        "      print(\"number is not a prime number\")\n",
        "      break\n",
        "    else:\n",
        "      print(\"It is a prime number\")\n",
        "      break"
      ],
      "metadata": {
        "id": "R2Qv70sj9_sl",
        "colab": {
          "base_uri": "https://localhost:8080/"
        },
        "outputId": "0efb75e1-312e-4d94-a8de-9c52645cd105"
      },
      "execution_count": null,
      "outputs": [
        {
          "output_type": "stream",
          "name": "stdout",
          "text": [
            "Enter a number: 56\n",
            "number is not a prime number\n"
          ]
        }
      ]
    },
    {
      "cell_type": "code",
      "source": [
        "#-------------------------------------------------------------------------------------------------------------------------------------------------------------------------------"
      ],
      "metadata": {
        "id": "pCt_8znEkkTF"
      },
      "execution_count": null,
      "outputs": []
    },
    {
      "cell_type": "code",
      "source": [
        "#Simple calculator using functions\n",
        "\n",
        "def add(a,b):\n",
        "  c = a+b\n",
        "  return c\n",
        "\n",
        "def sub(a,b):\n",
        "  c = a-b\n",
        "  return c\n",
        "\n",
        "def div(a,b):\n",
        "  c = a/b\n",
        "  return c\n",
        "\n",
        "def pro(a,b):\n",
        "  c = a*b\n",
        "  return c\n",
        "a = float(input(\"Enter a number: \"))\n",
        "b = float(input(\"Enter another number: \"))\n",
        "print(\"1. add\")\n",
        "print(\"2. subtract\")\n",
        "print(\"3. multiply\")\n",
        "print(\"4. divide\")\n",
        "\n",
        "x = input(\"Enter choice of arithmetic operation: \")\n",
        "\n",
        "x = x.lower()\n",
        "\n",
        "if x == \"1.\"or x == \"1\" or x == \"add\":\n",
        "  print(add(a,b))\n",
        "elif x == \"2.\"or x == \"2\" or x == \"subtract\":\n",
        "  print(sub(a,b))\n",
        "elif x == \"3.\" or x == \"3\" or x == \"multiply\":\n",
        "  print(pro(a,b))\n",
        "elif x == \"4.\" or x == \"4\" or x == \"divide\":\n",
        "  print(div(a,b))\n",
        "else:\n",
        "  print(\"Invalid Input\")"
      ],
      "metadata": {
        "id": "keP--QwX_V_3",
        "colab": {
          "base_uri": "https://localhost:8080/"
        },
        "outputId": "7caef686-7bdb-459d-f4a2-25d2c9d3d863"
      },
      "execution_count": null,
      "outputs": [
        {
          "output_type": "stream",
          "name": "stdout",
          "text": [
            "Enter a number: 29\n",
            "Enter another number: 56\n",
            "1. add\n",
            "2. subtract\n",
            "3. multiply\n",
            "4. divide\n",
            "Enter choice of arithmetic operation: 2\n",
            "-27.0\n"
          ]
        }
      ]
    },
    {
      "cell_type": "code",
      "source": [
        "#-------------------------------------------------------------------------------------------------------------------------------------------------------------------------------"
      ],
      "metadata": {
        "id": "2i7D7Nu3kkV1"
      },
      "execution_count": null,
      "outputs": []
    },
    {
      "cell_type": "code",
      "source": [
        "#Verifying if first and last elements of a list are same\n",
        "\n",
        "a = [1,2,3,4,5,6,7,8,9]\n",
        "b = len(a)\n",
        "b = b-1\n",
        "d = a[b]\n",
        "c = a[0]\n",
        "if c == d:\n",
        "  print(\"True\")\n",
        "else:\n",
        "  print(\"False\")"
      ],
      "metadata": {
        "id": "cU5-5pBx_WxK",
        "colab": {
          "base_uri": "https://localhost:8080/"
        },
        "outputId": "b288e972-2e72-4af6-f75a-5b464c83f393"
      },
      "execution_count": null,
      "outputs": [
        {
          "output_type": "stream",
          "name": "stdout",
          "text": [
            "False\n"
          ]
        }
      ]
    },
    {
      "cell_type": "code",
      "source": [
        "#-------------------------------------------------------------------------------------------------------------------------------------------------------------------------------"
      ],
      "metadata": {
        "id": "UAdFqd4pkkYm"
      },
      "execution_count": null,
      "outputs": []
    },
    {
      "cell_type": "code",
      "source": [
        "#Taking input from user and finding area or perimeter of a circle\n",
        "\n",
        "r = float(input(\"Enter radius of the circle: \"))\n",
        "q = input(\"You want area or perimeter? (area/perimeter): \")\n",
        "q = q.lower()\n",
        "\n",
        "ar = 3.14159265358979323846264338327950288419716939937510582097494459230781640628620899862803482534211706798214808651328230664709384460955058223172535940812848111745028410270193852110555964462294895493038196442881097566593344612847564823378678316527120190914564856692346034861045432664821339360726024914127372458700660631558817488152092096282925409171536436789259036001133053054882046652138414695194151160943305727036575959195309218611738193261179310511854807446237996274956735188575272489122793818301194912440656643086021394946395224737190702179860943702770539217176293176752384674818467669405132000568127145263560827785771342736371787214684409012249534301465495853710507922796892589235420199561121290219608640344181598136297747713099605187072113499999983729780499510597317328160963185950244594553469083026425223082533446850352619311881710100031378387528865875332083814206171776691473035982534904287554687311595628638823537875937519577818577805321712268066130019278766111959092164201989 * r*r\n",
        "pe = 2 * 3.14159265358979323846264338327950288419716939937510582097494459230781640628620899862803482534211706798214808651328230664709384460955058223172535940812848111745028410270193852110555964462294895493038196442881097566593344612847564823378678316527120190914564856692346034861045432664821339360726024914127372458700660631558817488152092096282925409171536436789259036001133053054882046652138414695194151160943305727036575959195309218611738193261179310511854807446237996274956735188575272489122793818301194912440656643086021394946395224737190702179860943702770539217176293176752384674818467669405132000568127145263560827785771342736371787214684409012249534301465495853710507922796892589235420199561121290219608640344181598136297747713099605187072113499999983729780499510597317328160963185950244594553469083026425223082533446850352619311881710100031378387528865875332083814206171776691473035982534904287554687311595628638823537875937519577818577805321712268066130019278766111959092164201989 * r\n",
        "\n",
        "if \"area\" in q:\n",
        "  print(\"Area of circle is: \",ar)\n",
        "elif \"perimeter\" in q:\n",
        "  print(\"Perimeter of area is: \",pe)\n",
        "else:\n",
        "  print(\"Invalid Input\")"
      ],
      "metadata": {
        "id": "rfZywbS__XYy",
        "colab": {
          "base_uri": "https://localhost:8080/"
        },
        "outputId": "c061282e-3bbb-446b-ee52-2eb7140b7f2a"
      },
      "execution_count": null,
      "outputs": [
        {
          "output_type": "stream",
          "name": "stdout",
          "text": [
            "Enter radius of the circle: 80\n",
            "You want area or perimeter? (area/perimeter): area\n",
            "Area of circle is:  20106.192982974677\n"
          ]
        }
      ]
    },
    {
      "cell_type": "code",
      "source": [
        "#-------------------------------------------------------------------------------------------------------------------------------------------------------------------------------"
      ],
      "metadata": {
        "id": "zosRqY_kkkbO"
      },
      "execution_count": null,
      "outputs": []
    },
    {
      "cell_type": "code",
      "source": [
        "#Finding area of a triangle by taking measurements from the user\n",
        "\n",
        "b = float(input(\"Enter base value: \"))\n",
        "h = float(input(\"Enter height value: \"))\n",
        "\n",
        "ar = 0.5 * b * h\n",
        "print(\"Area of triangle is: \",ar)"
      ],
      "metadata": {
        "id": "sUg7vyxrDgSj",
        "colab": {
          "base_uri": "https://localhost:8080/"
        },
        "outputId": "c67398b3-3d5e-46ac-a869-1e8aa612cdab"
      },
      "execution_count": null,
      "outputs": [
        {
          "output_type": "stream",
          "name": "stdout",
          "text": [
            "Enter base value: 50\n",
            "Enter height value: 40\n",
            "Area of triangle is:  1000.0\n"
          ]
        }
      ]
    },
    {
      "cell_type": "code",
      "source": [
        "#-------------------------------------------------------------------------------------------------------------------------------------------------------------------------------"
      ],
      "metadata": {
        "id": "8jh_oWcNGUV0"
      },
      "execution_count": null,
      "outputs": []
    },
    {
      "cell_type": "code",
      "source": [
        "#Adding/Appending an element to a list\n",
        "\n",
        "a = [1,2,3,4,5,6,7,8,9]\n",
        "a.append(10)\n",
        "print(a)"
      ],
      "metadata": {
        "id": "GnuMR1X0GZVX",
        "colab": {
          "base_uri": "https://localhost:8080/"
        },
        "outputId": "84535c83-ea54-4f59-b712-b8c301bb9be9"
      },
      "execution_count": null,
      "outputs": [
        {
          "output_type": "stream",
          "name": "stdout",
          "text": [
            "[1, 2, 3, 4, 5, 6, 7, 8, 9, 10]\n"
          ]
        }
      ]
    },
    {
      "cell_type": "code",
      "source": [
        "#-------------------------------------------------------------------------------------------------------------------------------------------------------------------------------"
      ],
      "metadata": {
        "id": "OnUHdyr4GUcu"
      },
      "execution_count": null,
      "outputs": []
    },
    {
      "cell_type": "code",
      "source": [
        "# Register for a driving license (checking the age)\n",
        "n = True\n",
        "while n == True:\n",
        "  b = input(\"Enter your name: \")\n",
        "  c = int(input(\"Enter your age: \"))\n",
        "  d = int(input(\"Enter your class: \"))\n",
        "\n",
        "  a = {'Name': b, 'Age': c, 'Class': d}\n",
        "  print(\"Your information is:\", a)\n",
        "  i = input(\"Is the information correct? (y/n): \")\n",
        "  i = i.lower()\n",
        "  if i == \"y\":\n",
        "    x = a.get('Age')\n",
        "    if x >= 18:\n",
        "       print(\"You can get a driving license\")\n",
        "    elif x < 18:\n",
        "        print(\"You cannot get a driving license\")\n",
        "    else:\n",
        "      print(\"Invalid Input\")\n",
        "    n = False\n",
        "  elif i == \"n\":\n",
        "    r = input(\"Do you want to fill the information again? (y/n): \")\n",
        "    r = r.lower()\n",
        "    if r == \"y\":\n",
        "      n = True\n",
        "    elif r == \"n\":\n",
        "      n = False\n",
        "    else:\n",
        "      print(\"Invalid Input\")\n",
        "  else:\n",
        "    print(\"invalid input\")"
      ],
      "metadata": {
        "id": "Pk_YkiD6IcZY",
        "colab": {
          "base_uri": "https://localhost:8080/"
        },
        "outputId": "54eb59bc-650c-4df0-f9d1-53b40e2f9254"
      },
      "execution_count": null,
      "outputs": [
        {
          "output_type": "stream",
          "name": "stdout",
          "text": [
            "Enter your name: Parth\n",
            "Enter your age: 34\n",
            "Enter your class: 9\n",
            "Your information is: {'Name': 'Parth', 'Age': 34, 'Class': 9}\n",
            "Is the information correct? (y/n): y\n",
            "You can get a driving license\n"
          ]
        }
      ]
    },
    {
      "cell_type": "code",
      "source": [
        "#-------------------------------------------------------------------------------------------------------------------------------------------------------------------------------"
      ],
      "metadata": {
        "id": "p-wGBajPGUfT"
      },
      "execution_count": null,
      "outputs": []
    },
    {
      "cell_type": "code",
      "source": [
        "#Taking value of pi from numpy library and finding perimeter/area\n",
        "\n",
        "import numpy as np\n",
        "\n",
        "r = float(input(\"Enter radius of the circle: \"))\n",
        "q = input(\"You want area or perimeter? (area/perimeter): \")\n",
        "q = q.lower()\n",
        "\n",
        "ar = np.pi * r*r\n",
        "pe = 2 * np.pi * r\n",
        "\n",
        "if \"area\" in q:\n",
        "  print(\"Area of circle is: \",ar)\n",
        "elif \"perimeter\" in q:\n",
        "  print(\"Perimeter of area is: \",pe)\n"
      ],
      "metadata": {
        "id": "fZNmzP2TPx68",
        "colab": {
          "base_uri": "https://localhost:8080/"
        },
        "outputId": "ffbad6a0-1664-4d0e-b6f3-0ca97c6da699"
      },
      "execution_count": null,
      "outputs": [
        {
          "output_type": "stream",
          "name": "stdout",
          "text": [
            "Enter radius of the circle: 90\n",
            "You want area or perimeter? (area/perimeter): perimeter\n",
            "Perimeter of area is:  565.4866776461628\n"
          ]
        }
      ]
    },
    {
      "cell_type": "code",
      "source": [
        "#-------------------------------------------------------------------------------------------------------------------------------------------------------------------------------"
      ],
      "metadata": {
        "id": "aK_QV9kBGUiK"
      },
      "execution_count": null,
      "outputs": []
    },
    {
      "cell_type": "code",
      "source": [
        "#Taking out the electric bill by taking the number of units from the user\n",
        "\n",
        "u = float(input(\"Enter Number of units: \"))\n",
        "a = u-100\n",
        "b = u-200\n",
        "if u <= 100:\n",
        "  print(\"No charge\")\n",
        "elif u <= 200:\n",
        "  print(\"Your bill is rupees \", a*5)\n",
        "elif u > 200 :\n",
        "  print(\"Your bill is rupees \",(100*5)+(b*10))\n",
        "else:\n",
        "    print(\"Invalid Input\")"
      ],
      "metadata": {
        "id": "U-jYoQVSeVAn",
        "colab": {
          "base_uri": "https://localhost:8080/"
        },
        "outputId": "5bb87cf3-ef6d-4e36-da74-3004ec9c8d7f"
      },
      "execution_count": null,
      "outputs": [
        {
          "output_type": "stream",
          "name": "stdout",
          "text": [
            "Enter Number of units: 50\n",
            "No charge\n"
          ]
        }
      ]
    },
    {
      "cell_type": "code",
      "source": [
        "#-------------------------------------------------------------------------------------------------------------------------------------------------------------------------------"
      ],
      "metadata": {
        "id": "0BPQVLzNGUqV"
      },
      "execution_count": null,
      "outputs": []
    },
    {
      "cell_type": "code",
      "source": [
        "#Taking input from user and finding if its a leap year or not\n",
        "\n",
        "y = int(input(\"Enter number of years: \"))\n",
        "\n",
        "if y % 4 == 0:\n",
        "  print(\"It is a leap year\")\n",
        "elif y % 4 != 0:\n",
        "  print(\"It is not a leap year\")\n",
        "else:\n",
        "  print(\"Invalid Input\")"
      ],
      "metadata": {
        "id": "zE_l7a9fitdZ",
        "colab": {
          "base_uri": "https://localhost:8080/"
        },
        "outputId": "132e1ff7-fcca-4ba6-dfa6-5bee518e95d2"
      },
      "execution_count": null,
      "outputs": [
        {
          "output_type": "stream",
          "name": "stdout",
          "text": [
            "Enter number of years: 2022\n",
            "It is not a leap year\n"
          ]
        }
      ]
    },
    {
      "cell_type": "code",
      "source": [
        "#-------------------------------------------------------------------------------------------------------------------------------------------------------------------------------"
      ],
      "metadata": {
        "id": "v2mI2dZ9GUrU"
      },
      "execution_count": null,
      "outputs": []
    },
    {
      "cell_type": "code",
      "source": [
        "#Check if a number is divisble by 5 (if so adding 5) or not(if so subtracting 2)\n",
        "\n",
        "a = int(input(\"Enter a number: \"))\n",
        "\n",
        "if a % 5 == 0:\n",
        "  c = a+5\n",
        "  print(a,\"is divisible by 5\")\n",
        "  print(c)\n",
        "elif a % 5 != 0:\n",
        "  b = a-2\n",
        "  print(a,\"is not divisible by 5\")\n",
        "  print(b)\n",
        "else:\n",
        "  print(\"Invalid Input\")"
      ],
      "metadata": {
        "id": "VsUMKwVci3Ab",
        "colab": {
          "base_uri": "https://localhost:8080/"
        },
        "outputId": "917afd08-ba92-440f-e55c-d0bf6e556f63"
      },
      "execution_count": null,
      "outputs": [
        {
          "output_type": "stream",
          "name": "stdout",
          "text": [
            "Enter a number: 54\n",
            "54 is not divisible by 5\n",
            "52\n"
          ]
        }
      ]
    },
    {
      "cell_type": "code",
      "source": [
        "#-------------------------------------------------------------------------------------------------------------------------------------------------------------------------------"
      ],
      "metadata": {
        "id": "x96zC1OGGUsi"
      },
      "execution_count": null,
      "outputs": []
    },
    {
      "cell_type": "code",
      "source": [
        "#Taking input and checking if its a vowel or not\n",
        "\n",
        "a = input(\"Enter a character: \")\n",
        "a = a.lower()\n",
        "\n",
        "if a == \"a\" or a == \"e\" or a ==\"i\" or a==\"o\" or a==\"u\":\n",
        "  print(\"It is a vowel\")\n",
        "else:\n",
        "  print(\"It is not a vowel\")"
      ],
      "metadata": {
        "id": "u5LRIrWBi39P",
        "colab": {
          "base_uri": "https://localhost:8080/"
        },
        "outputId": "a83116b2-cca8-4e68-89b9-b6aa9e51be61"
      },
      "execution_count": null,
      "outputs": [
        {
          "output_type": "stream",
          "name": "stdout",
          "text": [
            "Enter a character: g\n",
            "It is not a vowel\n"
          ]
        }
      ]
    },
    {
      "cell_type": "code",
      "source": [
        "#-------------------------------------------------------------------------------------------------------------------------------------------------------------------------------"
      ],
      "metadata": {
        "id": "XYklFCbnGUtf"
      },
      "execution_count": null,
      "outputs": []
    },
    {
      "cell_type": "code",
      "source": [
        "#Factorial of n number of numbers\n",
        "\n",
        "a = int(input(\"Enter factorial number: \"))\n",
        "if a <0:\n",
        "  a = abs(a)\n",
        "fac = 1\n",
        "for x in range(1,a+1):\n",
        "      fac = fac * x\n",
        "print(fac)"
      ],
      "metadata": {
        "id": "BjR2dR5COjGz",
        "colab": {
          "base_uri": "https://localhost:8080/"
        },
        "outputId": "398d6ee5-eef8-42aa-b5a5-77d6cb970bbb"
      },
      "execution_count": null,
      "outputs": [
        {
          "output_type": "stream",
          "name": "stdout",
          "text": [
            "Enter factorial number: 8\n",
            "40320\n"
          ]
        }
      ]
    },
    {
      "cell_type": "code",
      "source": [
        "#-------------------------------------------------------------------------------------------------------------------------------------------------------------------------------"
      ],
      "metadata": {
        "id": "og3NhnEGOjJi"
      },
      "execution_count": null,
      "outputs": []
    },
    {
      "cell_type": "code",
      "source": [
        "#Sum of odd numbers in a series of n consecutive numbers\n",
        "\n",
        "a = int(input(\"Enter the limit for sum: \"))\n",
        "sum = 0\n",
        "for x in range(1,a+1,2):\n",
        "  sum = sum + x\n",
        "print(\"Sum of odd numbers till\",a,\"is\",sum)"
      ],
      "metadata": {
        "id": "7i60fjdxOjL0",
        "colab": {
          "base_uri": "https://localhost:8080/"
        },
        "outputId": "6a802693-dae2-4baa-da6f-66257aa51892"
      },
      "execution_count": null,
      "outputs": [
        {
          "output_type": "stream",
          "name": "stdout",
          "text": [
            "Enter the limit for sum: 10\n",
            "Sum of odd numbers till 10 is 25\n"
          ]
        }
      ]
    },
    {
      "cell_type": "code",
      "source": [
        "#-------------------------------------------------------------------------------------------------------------------------------------------------------------------------------"
      ],
      "metadata": {
        "id": "FHkXIr4BOjOK"
      },
      "execution_count": null,
      "outputs": []
    },
    {
      "cell_type": "code",
      "source": [
        "#Sum of even numbers in a series of n consecutive numbers\n",
        "\n",
        "\n",
        "a = int(input(\"Enter the limit for sum: \"))\n",
        "sum = 0\n",
        "for x in range(0,a+1,2):\n",
        "  sum = sum + x\n",
        "print(\"Sum of even numbers till\",a,\"is\",sum)"
      ],
      "metadata": {
        "id": "85tIAjcQOjQa",
        "colab": {
          "base_uri": "https://localhost:8080/"
        },
        "outputId": "706c2f0a-2016-4e58-a9b5-e049d7206573"
      },
      "execution_count": null,
      "outputs": [
        {
          "output_type": "stream",
          "name": "stdout",
          "text": [
            "Enter the limit for sum: 5\n",
            "Sum of even numbers till 5 is 6\n"
          ]
        }
      ]
    },
    {
      "cell_type": "code",
      "source": [
        "#-------------------------------------------------------------------------------------------------------------------------------------------------------------------------------"
      ],
      "metadata": {
        "id": "Chdd3Vp3OlFz"
      },
      "execution_count": null,
      "outputs": []
    },
    {
      "cell_type": "code",
      "source": [
        "#Series of even numbers\n",
        "\n",
        "a = int(input(\"Limit of series: \"))\n",
        "for x in range(0,a+1,2):\n",
        "  print(x)\n"
      ],
      "metadata": {
        "id": "Ja847VsxU3sr",
        "colab": {
          "base_uri": "https://localhost:8080/"
        },
        "outputId": "ae27890b-63df-4284-bb97-44f60652a3f1"
      },
      "execution_count": null,
      "outputs": [
        {
          "output_type": "stream",
          "name": "stdout",
          "text": [
            "Limit of series: 20\n",
            "0\n",
            "2\n",
            "4\n",
            "6\n",
            "8\n",
            "10\n",
            "12\n",
            "14\n",
            "16\n",
            "18\n",
            "20\n"
          ]
        }
      ]
    },
    {
      "cell_type": "code",
      "source": [
        "#Series of odd numbers\n",
        "\n",
        "\n",
        "a = int(input(\"Limit of series: \"))\n",
        "for x in range(1,a+1,2):\n",
        "  print(x)\n"
      ],
      "metadata": {
        "id": "8di8QXd9OlIC",
        "colab": {
          "base_uri": "https://localhost:8080/"
        },
        "outputId": "3a88f9bc-4cb8-4dfc-a7fa-8e57434ea8f8"
      },
      "execution_count": null,
      "outputs": [
        {
          "output_type": "stream",
          "name": "stdout",
          "text": [
            "Limit of series: 20\n",
            "1\n",
            "3\n",
            "5\n",
            "7\n",
            "9\n",
            "11\n",
            "13\n",
            "15\n",
            "17\n",
            "19\n"
          ]
        }
      ]
    },
    {
      "cell_type": "code",
      "source": [
        "#-------------------------------------------------------------------------------------------------------------------------------------------------------------------------------"
      ],
      "metadata": {
        "id": "3i0jzo12OlKL"
      },
      "execution_count": null,
      "outputs": []
    },
    {
      "cell_type": "code",
      "source": [
        "#printing a given calculation\n",
        "\n",
        "a = int(input(\"Enter a number: \"))\n",
        "b  = int(input(\"Enter another number: \"))\n",
        "c = a**(1/2)\n",
        "d = c + (a+2)/b\n",
        "\n",
        "print(d)"
      ],
      "metadata": {
        "id": "TxT-ZnNwOlOK",
        "colab": {
          "base_uri": "https://localhost:8080/"
        },
        "outputId": "db6b9015-2aeb-4d72-8f56-4c642e4abfbe"
      },
      "execution_count": null,
      "outputs": [
        {
          "output_type": "stream",
          "name": "stdout",
          "text": [
            "Enter a number: 5\n",
            "Enter another number: 8\n",
            "3.11106797749979\n"
          ]
        }
      ]
    },
    {
      "cell_type": "code",
      "source": [
        "#-------------------------------------------------------------------------------------------------------------------------------------------------------------------------------"
      ],
      "metadata": {
        "id": "m2L_X8g7Tf-F"
      },
      "execution_count": null,
      "outputs": []
    },
    {
      "cell_type": "code",
      "source": [
        "#Printing quotient and remainder\n",
        "\n",
        "a = int(input(\"Enter a number: \"))\n",
        "b = int(input(\"Enter another number: \"))\n",
        "r = a%b\n",
        "q = a/b\n",
        "print(\"Remainder is\",r)\n",
        "print(\"Quotient is\",q)"
      ],
      "metadata": {
        "id": "U3He8QnTQ7rS",
        "colab": {
          "base_uri": "https://localhost:8080/"
        },
        "outputId": "9f42bb19-17c3-447a-9863-f842af3678cf"
      },
      "execution_count": null,
      "outputs": [
        {
          "output_type": "stream",
          "name": "stdout",
          "text": [
            "Enter a number: 10\n",
            "Enter another number: 5\n",
            "Remainder is 0\n",
            "Quotient is 2.0\n"
          ]
        }
      ]
    },
    {
      "cell_type": "code",
      "source": [
        "#-------------------------------------------------------------------------------------------------------------------------------------------------------------------------------"
      ],
      "metadata": {
        "id": "OcInxTITTgj0"
      },
      "execution_count": null,
      "outputs": []
    },
    {
      "cell_type": "code",
      "source": [
        "#Checking bag weight and additional charge\n",
        "\n",
        "a = float(input(\"Enter weight of baggage: \"))\n",
        "\n",
        "if a > 50:\n",
        "  print(\"There is an additional charge of 250 rupees\")\n",
        "else:\n",
        "  print(\"Invalid Input\")"
      ],
      "metadata": {
        "id": "xlPUJkMlRkvj",
        "colab": {
          "base_uri": "https://localhost:8080/"
        },
        "outputId": "0c28b4e5-94e1-4569-f25d-ceb1f0cc088a"
      },
      "execution_count": null,
      "outputs": [
        {
          "output_type": "stream",
          "name": "stdout",
          "text": [
            "Enter weight of baggage: 450\n",
            "There is an additional charge of 250 rupees\n"
          ]
        }
      ]
    },
    {
      "cell_type": "code",
      "source": [
        "#-------------------------------------------------------------------------------------------------------------------------------------------------------------------------------"
      ],
      "metadata": {
        "id": "v18ZaPqBTgxj"
      },
      "execution_count": null,
      "outputs": []
    },
    {
      "cell_type": "code",
      "source": [
        "#Printing first 10 multiples of a number\n",
        "\n",
        "a = int(input(\"Enter a number: \"))\n",
        "mul = 1\n",
        "for x in range(1,11):\n",
        "  mul = a*x\n",
        "  print(mul)"
      ],
      "metadata": {
        "id": "BG1Sqb5PSPB7",
        "colab": {
          "base_uri": "https://localhost:8080/"
        },
        "outputId": "d8cffbae-94ae-4294-bd04-8e2259efc130"
      },
      "execution_count": null,
      "outputs": [
        {
          "output_type": "stream",
          "name": "stdout",
          "text": [
            "Enter a number: 4\n",
            "4\n",
            "8\n",
            "12\n",
            "16\n",
            "20\n",
            "24\n",
            "28\n",
            "32\n",
            "36\n",
            "40\n"
          ]
        }
      ]
    },
    {
      "cell_type": "code",
      "source": [
        "#-------------------------------------------------------------------------------------------------------------------------------------------------------------------------------"
      ],
      "metadata": {
        "id": "ucSFi8kqThN7"
      },
      "execution_count": null,
      "outputs": []
    },
    {
      "cell_type": "code",
      "source": [
        "#Printing first 10 multiples of 5 in a list\n",
        "\n",
        "a = []\n",
        "mul = 1\n",
        "for x in range(1,11):\n",
        "  mul = 5*x\n",
        "  a.append(mul)\n",
        "print(a)"
      ],
      "metadata": {
        "id": "oHRhnDttTdvb",
        "colab": {
          "base_uri": "https://localhost:8080/"
        },
        "outputId": "fdcae4f1-f051-4b48-b755-832e58e23579"
      },
      "execution_count": null,
      "outputs": [
        {
          "output_type": "stream",
          "name": "stdout",
          "text": [
            "[5, 10, 15, 20, 25, 30, 35, 40, 45, 50]\n"
          ]
        }
      ]
    },
    {
      "cell_type": "code",
      "source": [
        "#-------------------------------------------------------------------------------------------------------------------------------------------------------------------------------"
      ],
      "metadata": {
        "id": "7OKFBd8XThvY"
      },
      "execution_count": null,
      "outputs": []
    },
    {
      "cell_type": "code",
      "source": [
        "#Print last two elements\n",
        "#• Print elements from last to first item in reverse order\n",
        "#• Print elements from ‘red’ till end\n",
        "#• Print elements from ‘pink’ to ‘yellow’ in reverse order\n",
        "\n",
        "colors = [\"green\",'yellow’',\"red\",\"white\",\"black\",\"pink\",\"blue\"]\n",
        "a = len(colors)\n",
        "a = a-1\n",
        "print(colors[a],\",\" , colors[a-1])\n"
      ],
      "metadata": {
        "id": "jSpuMOQLTm0C",
        "colab": {
          "base_uri": "https://localhost:8080/"
        },
        "outputId": "64f7feb6-8fe2-4818-8ace-7c4087ccc7d2"
      },
      "execution_count": null,
      "outputs": [
        {
          "output_type": "stream",
          "name": "stdout",
          "text": [
            "blue , pink\n"
          ]
        }
      ]
    },
    {
      "cell_type": "code",
      "source": [
        "#-------------------------------------------------------------------------------------------------------------------------------------------------------------------------------"
      ],
      "metadata": {
        "id": "S4666NjcTiPk"
      },
      "execution_count": null,
      "outputs": []
    },
    {
      "cell_type": "code",
      "source": [
        "#Practice queestions for while loop\n",
        "\n",
        "x = 2\n",
        "while(x<=4):\n",
        "  print(x)\n",
        "  x=x+1\n",
        "\n",
        "#----------------------------------------------------------------\n",
        "\n",
        "a = 8\n",
        "while(a > 2):\n",
        "  print(a)\n",
        "  a = a-3\n",
        "\n",
        "#----------------------------------------------------------------\n",
        "\n",
        "num = 3\n",
        "count = 4\n",
        "while(count >= 1):\n",
        "  print(count,num*count)\n",
        "  count = count-1"
      ],
      "metadata": {
        "id": "0FssUqLITmej",
        "colab": {
          "base_uri": "https://localhost:8080/"
        },
        "outputId": "5c5b42cd-ec99-4d58-d20d-a4435b64d20f"
      },
      "execution_count": null,
      "outputs": [
        {
          "output_type": "stream",
          "name": "stdout",
          "text": [
            "2\n",
            "3\n",
            "4\n",
            "8\n",
            "5\n",
            "4 12\n",
            "3 9\n",
            "2 6\n",
            "1 3\n"
          ]
        }
      ]
    },
    {
      "cell_type": "code",
      "source": [
        "#-------------------------------------------------------------------------------------------------------------------------------------------------------------------------------"
      ],
      "metadata": {
        "id": "-p_3Lw6VTjdJ"
      },
      "execution_count": null,
      "outputs": []
    },
    {
      "cell_type": "code",
      "source": [
        "#'n' factorial using while loop\n",
        "\n",
        "n = int(input(\"Enter number: \"))\n",
        "fac = 1\n",
        "i = 1\n",
        "while(i<=n):\n",
        "  fac = fac*i\n",
        "  i = i+1\n",
        "print(fac)"
      ],
      "metadata": {
        "id": "FF944w_7Td2y",
        "colab": {
          "base_uri": "https://localhost:8080/"
        },
        "outputId": "3d2942a8-aa2e-44e8-b30f-f48854d9fe49"
      },
      "execution_count": null,
      "outputs": [
        {
          "output_type": "stream",
          "name": "stdout",
          "text": [
            "Enter number: 4\n",
            "24\n"
          ]
        }
      ]
    },
    {
      "cell_type": "code",
      "source": [
        "#-------------------------------------------------------------------------------------------------------------------------------------------------------------------------------"
      ],
      "metadata": {
        "id": "fC3ZQcoSTjyR"
      },
      "execution_count": null,
      "outputs": []
    },
    {
      "cell_type": "code",
      "source": [
        "#Sum of first 'n' natural numbers using while loop\n",
        "\n",
        "a = int(input(\"Enter the limit: \"))\n",
        "sum = 0\n",
        "x = 0\n",
        "while x<=a:\n",
        "  sum = sum+x\n",
        "  x = x+1\n",
        "print(sum)"
      ],
      "metadata": {
        "id": "i6jrs6PGTd5C",
        "colab": {
          "base_uri": "https://localhost:8080/"
        },
        "outputId": "6f7dbb65-609e-4158-ae24-51f0aa88838f"
      },
      "execution_count": null,
      "outputs": [
        {
          "output_type": "stream",
          "name": "stdout",
          "text": [
            "Enter the limit: 50\n",
            "1275\n"
          ]
        }
      ]
    },
    {
      "cell_type": "code",
      "source": [
        "#-------------------------------------------------------------------------------------------------------------------------------------------------------------------------------"
      ],
      "metadata": {
        "id": "RWjNMkegTkIE"
      },
      "execution_count": null,
      "outputs": []
    },
    {
      "cell_type": "code",
      "source": [
        "#Sum of first 10 evven numbers using while loop\n",
        "\n",
        "sum = 0\n",
        "x = 2\n",
        "while x<=20:\n",
        "  sum = sum+x\n",
        "  x = x+2\n",
        "print(sum)"
      ],
      "metadata": {
        "id": "J2izXkW9TeIa",
        "colab": {
          "base_uri": "https://localhost:8080/"
        },
        "outputId": "5e91a54f-7a1c-47ff-f3f4-5e8a7a166b06"
      },
      "execution_count": null,
      "outputs": [
        {
          "output_type": "stream",
          "name": "stdout",
          "text": [
            "110\n"
          ]
        }
      ]
    },
    {
      "cell_type": "code",
      "source": [
        "#-------------------------------------------------------------------------------------------------------------------------------------------------------------------------------"
      ],
      "metadata": {
        "id": "wV8lYHHiTkkx"
      },
      "execution_count": null,
      "outputs": []
    },
    {
      "cell_type": "code",
      "source": [
        "#Fibonacci sequence\n",
        "\n",
        "num = int(input(\"Enter the range = \"))\n",
        "n1,n2 = 0,1\n",
        "print(n1,n2,end=\"  \")\n",
        "for i in range(2,num):\n",
        "  n3 = n1+n2\n",
        "  n1 = n2\n",
        "  n2 = n3\n",
        "  print(n3, end=\"  \")"
      ],
      "metadata": {
        "id": "hIzuPHkiTl5a",
        "colab": {
          "base_uri": "https://localhost:8080/"
        },
        "outputId": "4e3c5973-4c8d-4cbd-8f2c-f3ca06b97265"
      },
      "execution_count": null,
      "outputs": [
        {
          "output_type": "stream",
          "name": "stdout",
          "text": [
            "Enter the range = 10\n",
            "0 1  1  2  3  5  8  13  21  34  "
          ]
        }
      ]
    },
    {
      "cell_type": "code",
      "source": [
        "#-------------------------------------------------------------------------------------------------------------------------------------------------------------------------------"
      ],
      "metadata": {
        "id": "k0qdwH4KTeKp"
      },
      "execution_count": null,
      "outputs": []
    },
    {
      "cell_type": "code",
      "source": [
        "#Printing list elements using index values\n",
        "\n",
        "list1 = [\"physics\", \"chemistry\", 1997, 2000]\n",
        "list2 = [1,2,3,4,5,6,7]\n",
        "\n",
        "print(\"list1[0]\", list1[0])\n",
        "print(\"list2[1:5]\", list2[1:5])"
      ],
      "metadata": {
        "id": "qPhEbliUhUZ-",
        "colab": {
          "base_uri": "https://localhost:8080/"
        },
        "outputId": "39b59b39-e76a-4223-9607-e014d0ec1ea9"
      },
      "execution_count": null,
      "outputs": [
        {
          "output_type": "stream",
          "name": "stdout",
          "text": [
            "list1[0] physics\n",
            "list2[1:5] [2, 3, 4, 5]\n"
          ]
        }
      ]
    },
    {
      "cell_type": "code",
      "source": [
        "#-------------------------------------------------------------------------------------------------------------------------------------------------------------------------------"
      ],
      "metadata": {
        "id": "4kU4SdhETeMy"
      },
      "execution_count": null,
      "outputs": []
    },
    {
      "cell_type": "code",
      "source": [
        "#Iterating and printing list values using loops and then printing the reverse of the list\n",
        "\n",
        "\n",
        "a = [1,2,3,4,5,6,7,8,9]\n",
        "b = []\n",
        "c = len(a) - 1\n",
        "for x in a:\n",
        "  print(x)\n",
        "  b.append(a[c])\n",
        "  c = c-1\n",
        "print(b)"
      ],
      "metadata": {
        "id": "QKb0vNxHiYib",
        "colab": {
          "base_uri": "https://localhost:8080/"
        },
        "outputId": "ce7947d3-ea1b-4295-d6fb-fc527617a580"
      },
      "execution_count": null,
      "outputs": [
        {
          "output_type": "stream",
          "name": "stdout",
          "text": [
            "1\n",
            "2\n",
            "3\n",
            "4\n",
            "5\n",
            "6\n",
            "7\n",
            "8\n",
            "9\n",
            "[9, 8, 7, 6, 5, 4, 3, 2, 1]\n"
          ]
        }
      ]
    },
    {
      "cell_type": "code",
      "source": [
        "#-------------------------------------------------------------------------------------------------------------------------------------------------------------------------------"
      ],
      "metadata": {
        "id": "SvMddGCMTeRE"
      },
      "execution_count": null,
      "outputs": []
    },
    {
      "cell_type": "code",
      "source": [
        "#Slicing methods\n",
        "\n",
        "a = [4,6,8,9,12,23]\n",
        "\n",
        "#printing from beginning to a range\n",
        "print(a[:3])\n",
        "\n",
        "#printing from beginning to a specific index using negative index\n",
        "print(a[:-2])\n",
        "\n",
        "#printing from specific index till end\n",
        "print(a[1:])\n",
        "\n",
        "#printing from a range\n",
        "print(a[2:5])\n",
        "\n",
        "#printing the whole list\n",
        "print(a[:])\n",
        "\n",
        "#printing the whole list in reverse order\n",
        "print(a[::-1])\n",
        "\n",
        "#negatve indexing\n",
        "print(a[-1])"
      ],
      "metadata": {
        "id": "x9MSVYtCkqya",
        "colab": {
          "base_uri": "https://localhost:8080/"
        },
        "outputId": "ac55516f-952b-410b-d098-2e5d87de3235"
      },
      "execution_count": null,
      "outputs": [
        {
          "output_type": "stream",
          "name": "stdout",
          "text": [
            "[4, 6, 8]\n",
            "[4, 6, 8, 9]\n",
            "[6, 8, 9, 12, 23]\n",
            "[8, 9, 12]\n",
            "[4, 6, 8, 9, 12, 23]\n",
            "[23, 12, 9, 8, 6, 4]\n",
            "23\n"
          ]
        }
      ]
    },
    {
      "cell_type": "code",
      "source": [
        "#-------------------------------------------------------------------------------------------------------------------------------------------------------------------------------"
      ],
      "metadata": {
        "id": "FR1awJh1hEKf"
      },
      "execution_count": null,
      "outputs": []
    },
    {
      "cell_type": "code",
      "source": [
        "#Practice Questions\n",
        "\n",
        "a = [\"g\",\"t\",\"y\",\"s\",\"c\",\"y\",\"j\",\"l\",\"a\"]\n",
        "\n",
        "print(a[4:8])\n",
        "print(a[8:4:-1])\n",
        "print(a[3:])\n",
        "print(a[6:1:-1])"
      ],
      "metadata": {
        "id": "yi9OPoyymH3J",
        "colab": {
          "base_uri": "https://localhost:8080/"
        },
        "outputId": "2bfa2572-5eb5-4ce3-f4d2-e9fc185d2c59"
      },
      "execution_count": null,
      "outputs": [
        {
          "output_type": "stream",
          "name": "stdout",
          "text": [
            "['c', 'y', 'j', 'l']\n",
            "['a', 'l', 'j', 'y']\n",
            "['s', 'c', 'y', 'j', 'l', 'a']\n",
            "['j', 'y', 'c', 's', 'y']\n"
          ]
        }
      ]
    },
    {
      "cell_type": "code",
      "source": [
        "#-------------------------------------------------------------------------------------------------------------------------------------------------------------------------------"
      ],
      "metadata": {
        "id": "ku2JkplPhEPK"
      },
      "execution_count": null,
      "outputs": []
    },
    {
      "cell_type": "code",
      "source": [
        "#Functions to add elements in a list\n",
        "\n",
        "a = [1,2,3,4,5,6,7,8,9]\n",
        "\n",
        "a.append(10)\n",
        "a.extend([12,13])\n",
        "a.insert(10,11)\n",
        "print(a)\n",
        "\n",
        "#With string\n",
        "b = [\"a\",\"b\",\"c\",\"d\",\"e\"]\n",
        "\n",
        "b.append(\"f\")\n",
        "b.extend([\"h\",\"i\"])\n",
        "b.insert(6,\"g\")\n",
        "print(b)"
      ],
      "metadata": {
        "id": "cpxZfgnTqQ7m",
        "colab": {
          "base_uri": "https://localhost:8080/"
        },
        "outputId": "837bea73-0203-4798-a051-c473c9cbddd3"
      },
      "execution_count": null,
      "outputs": [
        {
          "output_type": "stream",
          "name": "stdout",
          "text": [
            "[1, 2, 3, 4, 5, 6, 7, 8, 9, 10, 11, 12, 13]\n",
            "['a', 'b', 'c', 'd', 'e', 'f', 'g', 'h', 'i']\n"
          ]
        }
      ]
    },
    {
      "cell_type": "code",
      "source": [
        "#-------------------------------------------------------------------------------------------------------------------------------------------------------------------------------"
      ],
      "metadata": {
        "id": "dXjY0DJohESY"
      },
      "execution_count": null,
      "outputs": []
    },
    {
      "cell_type": "code",
      "source": [
        "#List concatination\n",
        "\n",
        "fn = [\"parth\",\"pari\",\"ronit\"]\n",
        "ln = [\"kaushik\",\"sahni\",\"khatkar\"]\n",
        "\n",
        "for i in range(0,3):\n",
        "  print(fn[i],ln[i])"
      ],
      "metadata": {
        "id": "XbOojUnSOAuo",
        "colab": {
          "base_uri": "https://localhost:8080/"
        },
        "outputId": "f5262073-f127-461a-ea39-b01338034317"
      },
      "execution_count": null,
      "outputs": [
        {
          "output_type": "stream",
          "name": "stdout",
          "text": [
            "parth kaushik\n",
            "pari sahni\n",
            "ronit khatkar\n"
          ]
        }
      ]
    },
    {
      "cell_type": "code",
      "source": [
        "#Printing double the value of even numbers and triple the value of odd numbers\n",
        "\n",
        "x = []\n",
        "for i in range(0,5):\n",
        "  a = int(input(\"Enter a number: \"))\n",
        "  x.append(a)\n",
        "for i in range(0,5):\n",
        "  if x[i] % 2 == 0:\n",
        "    print(x[i]*2)\n",
        "  else:\n",
        "    print(x[i]*3)\n"
      ],
      "metadata": {
        "id": "48D6-sTurQ13",
        "colab": {
          "base_uri": "https://localhost:8080/"
        },
        "outputId": "1de1b2c1-3426-41a3-8760-18467d387256"
      },
      "execution_count": null,
      "outputs": [
        {
          "output_type": "stream",
          "name": "stdout",
          "text": [
            "Enter a number: 1\n",
            "Enter a number: 5\n",
            "Enter a number: 7\n",
            "Enter a number: 3\n",
            "Enter a number: 8\n",
            "3\n",
            "15\n",
            "21\n",
            "9\n",
            "16\n"
          ]
        }
      ]
    },
    {
      "cell_type": "code",
      "source": [
        "#-------------------------------------------------------------------------------------------------------------------------------------------------------------------------------"
      ],
      "metadata": {
        "id": "ppOejILphEaI"
      },
      "execution_count": null,
      "outputs": []
    },
    {
      "cell_type": "code",
      "source": [
        "#Printing squares of numbers from 2-50 in a list\n",
        "\n",
        "x = []\n",
        "\n",
        "for i in range(2,51,2):\n",
        "  a = i**2\n",
        "  x.append(a)\n",
        "print(x)"
      ],
      "metadata": {
        "id": "z-ZZGy5Ku4LJ",
        "colab": {
          "base_uri": "https://localhost:8080/"
        },
        "outputId": "c022b7a8-c4c0-46b7-c8f6-f9883ec7441d"
      },
      "execution_count": null,
      "outputs": [
        {
          "output_type": "stream",
          "name": "stdout",
          "text": [
            "[4, 16, 36, 64, 100, 144, 196, 256, 324, 400, 484, 576, 676, 784, 900, 1024, 1156, 1296, 1444, 1600, 1764, 1936, 2116, 2304, 2500]\n"
          ]
        }
      ]
    },
    {
      "cell_type": "code",
      "source": [
        "#-------------------------------------------------------------------------------------------------------------------------------------------------------------------------------"
      ],
      "metadata": {
        "id": "MY15sS17hEa9"
      },
      "execution_count": null,
      "outputs": []
    },
    {
      "cell_type": "code",
      "source": [
        "#Printing first five multiples of five\n",
        "\n",
        "x = []\n",
        "for i in range(5,26,5):\n",
        "  x.append(i)\n",
        "print(x)"
      ],
      "metadata": {
        "id": "LnPGR19iwoCk",
        "colab": {
          "base_uri": "https://localhost:8080/"
        },
        "outputId": "582945e0-610d-40e4-8689-d260754acf85"
      },
      "execution_count": null,
      "outputs": [
        {
          "output_type": "stream",
          "name": "stdout",
          "text": [
            "[5, 10, 15, 20, 25]\n"
          ]
        }
      ]
    },
    {
      "cell_type": "code",
      "source": [
        "#-------------------------------------------------------------------------------------------------------------------------------------------------------------------------------"
      ],
      "metadata": {
        "id": "NV2QlgkuhEb6"
      },
      "execution_count": null,
      "outputs": []
    },
    {
      "cell_type": "code",
      "source": [
        "#Taking house names in a list and checking if my house is there\n",
        "\n",
        "l = []\n",
        "for i in range(0,6):\n",
        "  x = input(\"Enter house: \")\n",
        "  l.append(x)\n",
        "print(l)\n",
        "for a in range(0,6):\n",
        "  if l[a] == \"jhelum\":\n",
        "    print(l[a])\n",
        "    break"
      ],
      "metadata": {
        "colab": {
          "base_uri": "https://localhost:8080/"
        },
        "id": "8zeeu7yEe8e0",
        "outputId": "ec065d31-0c34-4622-caba-b3ca5cc58994"
      },
      "execution_count": null,
      "outputs": [
        {
          "output_type": "stream",
          "name": "stdout",
          "text": [
            "Enter house: jamuna\n",
            "Enter house: jhelum\n",
            "Enter house: ravi\n",
            "Enter house: satluj\n",
            "Enter house: ganges\n",
            "Enter house: chenab\n",
            "['jamuna', 'jhelum', 'ravi', 'satluj', 'ganges', 'chenab']\n",
            "jhelum\n"
          ]
        }
      ]
    },
    {
      "cell_type": "code",
      "source": [
        "#-------------------------------------------------------------------------------------------------------------------------------------------------------------------------------"
      ],
      "metadata": {
        "id": "7El3bB4KhEc9"
      },
      "execution_count": null,
      "outputs": []
    },
    {
      "cell_type": "code",
      "source": [
        " \"\"\"Write a program to:\n",
        "• Print last two elements\n",
        "• Print elements from last to first item in reverse order\n",
        "• Print elements from ‘red’ till end\n",
        "• Print elements from ‘pink’ to ‘yellow’ in reverse order\"\"\"\n",
        "\n",
        " col = [\"greens\",\"yellow\",\"red\",\"white\",\"pink\",\"blue\"]\n",
        " print(col[-1:-3:-1])\n",
        " print(col[-1::-3])\n",
        " print(col[2:])\n",
        " print(col[-2:-7:-1])"
      ],
      "metadata": {
        "colab": {
          "base_uri": "https://localhost:8080/"
        },
        "id": "UbnesAEdy8_l",
        "outputId": "32dfcc2d-4b91-4ab1-ae41-0eb70b9c59eb"
      },
      "execution_count": null,
      "outputs": [
        {
          "output_type": "stream",
          "name": "stdout",
          "text": [
            "['blue', 'pink']\n",
            "['blue', 'red']\n",
            "['red', 'white', 'pink', 'blue']\n",
            "['pink', 'white', 'red', 'yellow', 'greens']\n"
          ]
        }
      ]
    },
    {
      "cell_type": "code",
      "source": [
        "#-------------------------------------------------------------------------------------------------------------------------------------------------------------------------------"
      ],
      "metadata": {
        "id": "fD2k97HxhEd3"
      },
      "execution_count": null,
      "outputs": []
    },
    {
      "cell_type": "code",
      "source": [
        "#Taking 5 numbers in a list as input, printing their sum and adding a value in between using append() function\n",
        "\n",
        "a = []\n",
        "s = 0\n",
        "for i in range(0,5,1):\n",
        "  n = int(input(\"Enter a number: \"))\n",
        "  a.append(n)\n",
        "print(a)\n",
        "\n",
        "for i in range(0,5,1):\n",
        "  s = s+a[i]\n",
        "print(\"Sum =\", s)\n",
        "a.insert(4,10)\n",
        "print(a)"
      ],
      "metadata": {
        "colab": {
          "base_uri": "https://localhost:8080/"
        },
        "id": "wh8HLxAhzhce",
        "outputId": "863d1783-aceb-402e-b8f4-0e4558f6befa"
      },
      "execution_count": null,
      "outputs": [
        {
          "output_type": "stream",
          "name": "stdout",
          "text": [
            "Enter a number: 50\n",
            "Enter a number: 40\n",
            "Enter a number: 30\n",
            "Enter a number: 20\n",
            "Enter a number: 0\n",
            "[50, 40, 30, 20, 0]\n",
            "Sum = 140\n",
            "[50, 40, 30, 20, 10, 0]\n"
          ]
        }
      ]
    },
    {
      "cell_type": "code",
      "source": [
        "#-------------------------------------------------------------------------------------------------------------------------------------------------------------------------------"
      ],
      "metadata": {
        "id": "Oj8VTY-1hEe0"
      },
      "execution_count": null,
      "outputs": []
    },
    {
      "cell_type": "code",
      "source": [
        "#Taking 10 numbers as input and displaying “Hello” if the number is even otherwise displaying the number\n",
        "\n",
        "a = []\n",
        "\n",
        "for i in range(0,10):\n",
        "  n = int(input(\"Enter a number: \"))\n",
        "  a.append(n)\n",
        "print(a)\n",
        "for i in range(0,10):\n",
        "  if a[i]%2 == 0:\n",
        "    print(\"Hello\")\n",
        "    break\n",
        "  else:\n",
        "    print(a[i])"
      ],
      "metadata": {
        "colab": {
          "base_uri": "https://localhost:8080/"
        },
        "id": "H9OD2Ljm052F",
        "outputId": "1d2ddb85-39e6-469c-ed0b-a8f4d4fa83f6"
      },
      "execution_count": null,
      "outputs": [
        {
          "output_type": "stream",
          "name": "stdout",
          "text": [
            "Enter a number: 3\n",
            "Enter a number: 4\n",
            "Enter a number: 6\n",
            "Enter a number: 9\n",
            "Enter a number: 13\n",
            "Enter a number: 35\n",
            "Enter a number: 67\n",
            "Enter a number: 90\n",
            "Enter a number: 89\n",
            "Enter a number: 68\n",
            "[3, 4, 6, 9, 13, 35, 67, 90, 89, 68]\n",
            "3\n",
            "Hello\n"
          ]
        }
      ]
    },
    {
      "cell_type": "code",
      "source": [
        "#-------------------------------------------------------------------------------------------------------------------------------------------------------------------------------"
      ],
      "metadata": {
        "id": "SwL8scQyhEf1"
      },
      "execution_count": null,
      "outputs": []
    },
    {
      "cell_type": "code",
      "source": [],
      "metadata": {
        "id": "Xj7IA0Q_-K94"
      },
      "execution_count": null,
      "outputs": []
    },
    {
      "cell_type": "code",
      "source": [
        "#-------------------------------------------------------------------------------------------------------------------------------------------------------------------------------"
      ],
      "metadata": {
        "id": "b1bfTdLkhEgz"
      },
      "execution_count": null,
      "outputs": []
    },
    {
      "cell_type": "code",
      "source": [],
      "metadata": {
        "id": "n5JBV1V2-Lh2"
      },
      "execution_count": null,
      "outputs": []
    },
    {
      "cell_type": "code",
      "source": [
        "# ---------------------------------------------------------------------------------------------------------------------------------------------------------"
      ],
      "metadata": {
        "id": "rN8TZeqZhEh4"
      },
      "execution_count": null,
      "outputs": []
    }
  ]
}